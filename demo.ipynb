{
 "cells": [
  {
   "attachments": {},
   "cell_type": "markdown",
   "metadata": {},
   "source": [
    "# Realistic Saliency Guided Image Enhancement\n",
    "This Colab Notebook contains an inference on the implementation from  https://github.com/compphoto/RealisticImageEnhancement\n",
    "\n",
    "\n",
    "# Instructions\n",
    "Ensure using a GPU by setting \"Runtime/change runtime type\" to GPU\n",
    "\n",
    "1. Run code section 1\n",
    "\n",
    "2.  Put your test images inside /content/inputs/rgb\n",
    "    Put your test maskes inside /content/inputs/mask\n",
    "\n",
    "** Images and masks should have matching names. The code expects \n",
    "\n",
    "3. Run code section 2 : it will download the needed model weights.\n",
    "\n",
    "4. Run code section 3 : results will be generated in /content/outputs_amplify and /content/outputs_attenuate"
   ]
  },
  {
   "cell_type": "code",
   "execution_count": null,
   "metadata": {
    "vscode": {
     "languageId": "plaintext"
    }
   },
   "outputs": [],
   "source": [
    "# Code section 1\n",
    "\n",
    "!mkdir -p inputs\n",
    "!mkdir -p inputs/mask\n",
    "!mkdir -p inputs/rgb\n",
    "\n",
    "!mkdir -p outputs_amplify\n",
    "!mkdir -p outputs_attenuate"
   ]
  },
  {
   "cell_type": "code",
   "execution_count": null,
   "metadata": {
    "vscode": {
     "languageId": "plaintext"
    }
   },
   "outputs": [],
   "source": [
    "# Code section 2\n",
    "\n",
    "# Install dependancies\n",
    "!pip install -r requirements.txt\n",
    "\n",
    "\n",
    "# Clone git repo\n",
    "!git clone https://github.com/compphoto/RealisticImageEnhancement.git\n",
    "\n",
    "# Downloading EditNet model weights\n",
    "!gdown https://drive.google.com/u/0/uc?id=1NUN9xmD3p8G7n-HpD03UY9LHEF6J82-Q&export=download\n",
    "!mv realisticImageEnhancement /content/RealisticImageEnhancement/bestmodels\n",
    "!unzip /content/RealisticImageEnhancement/bestmodels/realisticImageEnhancement.zip"
   ]
  },
  {
   "cell_type": "code",
   "execution_count": null,
   "metadata": {
    "vscode": {
     "languageId": "plaintext"
    }
   },
   "outputs": [],
   "source": [
    "# code secton 3\n",
    "\n",
    "rgb_root=\"/content/inputs/rgb\"\n",
    "mask_root=\"/content/inputs/mask\"\n",
    "\n",
    "result_path=\"/content/outputs_attenuate\"\n",
    "python test.py --mask_root \"$mask_root\" --rgb_root \"$rgb_root\" --result_path \"$result_path\" --init_parameternet_weights \"bestmodels/editnet_attenuate.pth\" --result_for_decrease 1 --batch_size 1\n",
    "\n",
    "result_path=\"/content/outputs_amplify\"\n",
    "python test.py --mask_root \"$mask_root\" --rgb_root \"$rgb_root\" --result_path \"$result_path\" --init_parameternet_weights \"bestmodels/editnet_amplify.pth\" --result_for_decrease 0 --batch_size 1\n"
   ]
  }
 ],
 "metadata": {
  "language_info": {
   "name": "python"
  },
  "orig_nbformat": 4
 },
 "nbformat": 4,
 "nbformat_minor": 2
}
